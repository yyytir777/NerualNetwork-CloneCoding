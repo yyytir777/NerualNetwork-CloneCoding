{
 "cells": [
  {
   "cell_type": "markdown",
   "id": "59cd579f",
   "metadata": {},
   "source": [
    "## Python AI - gradient method"
   ]
  },
  {
   "cell_type": "markdown",
   "id": "e51fbcfa",
   "metadata": {},
   "source": [
    "#### numpy import\n"
   ]
  },
  {
   "cell_type": "code",
   "execution_count": 5,
   "id": "232abe05",
   "metadata": {},
   "outputs": [],
   "source": [
    "import numpy as np"
   ]
  },
  {
   "cell_type": "markdown",
   "id": "e8a5fac3",
   "metadata": {},
   "source": [
    "#### 함수 (function)"
   ]
  },
  {
   "cell_type": "code",
   "execution_count": 6,
   "id": "a674b53b",
   "metadata": {},
   "outputs": [],
   "source": [
    "def function_1(x):\n",
    "    return x[0]**2 + x[1]**2"
   ]
  },
  {
   "cell_type": "markdown",
   "id": "b6354b52",
   "metadata": {},
   "source": [
    "#### 미분값 계산 (numerical_gradient)"
   ]
  },
  {
   "cell_type": "code",
   "execution_count": 7,
   "id": "720223ed",
   "metadata": {},
   "outputs": [],
   "source": [
    "\n",
    "def numerical_gradient(f, x):\n",
    "    h = 1e-4\n",
    "    grad = np.zeros_like(x)\n",
    "\n",
    "    for idx in range(x.size):\n",
    "        tmp_val = x[idx]\n",
    "\n",
    "        x[idx] = tmp_val + h\n",
    "        fxh1 = f(x)\n",
    "\n",
    "        x[idx] = tmp_val - h\n",
    "        fxh2 = f(x)\n",
    "\n",
    "        grad[idx] = (fxh1 - fxh2) / (2 * h)\n",
    "\n",
    "        x[idx] = tmp_val\n",
    "\n",
    "    return grad\n"
   ]
  },
  {
   "cell_type": "markdown",
   "id": "9fa5f19c",
   "metadata": {},
   "source": [
    "#### run - numerical_gradient"
   ]
  },
  {
   "cell_type": "code",
   "execution_count": null,
   "id": "7942b362",
   "metadata": {},
   "outputs": [
    {
     "name": "stdout",
     "output_type": "stream",
     "text": [
      "[ 6. 18.]\n"
     ]
    }
   ],
   "source": [
    "print(numerical_gradient(function_1, np.array([3.0, 9.0])))"
   ]
  },
  {
   "cell_type": "markdown",
   "id": "c7f89ab7",
   "metadata": {},
   "source": [
    "#### 경사 하강법 (gradient descent)"
   ]
  },
  {
   "cell_type": "code",
   "execution_count": 8,
   "id": "1b62461c",
   "metadata": {},
   "outputs": [],
   "source": [
    "def gradient_descent(f, init_x, lr=0.01, step_num=100):\n",
    "    x = init_x\n",
    "\n",
    "    for _ in range(step_num):\n",
    "        grad = numerical_gradient(f, x)\n",
    "        x -= lr * grad\n",
    "    return x"
   ]
  },
  {
   "cell_type": "markdown",
   "id": "5c1e5565",
   "metadata": {},
   "source": [
    "#### run - gradient descent"
   ]
  },
  {
   "cell_type": "code",
   "execution_count": 11,
   "id": "a7079b9f",
   "metadata": {},
   "outputs": [
    {
     "data": {
      "text/plain": [
       "array([-6.11110793e-10,  4.07407195e-10])"
      ]
     },
     "execution_count": 11,
     "metadata": {},
     "output_type": "execute_result"
    }
   ],
   "source": [
    "init_x = np.array([-3.0, 2.0])\n",
    "gradient_descent(function_1, init_x, lr=0.1, step_num=100)"
   ]
  }
 ],
 "metadata": {
  "kernelspec": {
   "display_name": "Python 3",
   "language": "python",
   "name": "python3"
  },
  "language_info": {
   "codemirror_mode": {
    "name": "ipython",
    "version": 3
   },
   "file_extension": ".py",
   "mimetype": "text/x-python",
   "name": "python",
   "nbconvert_exporter": "python",
   "pygments_lexer": "ipython3",
   "version": "3.9.13"
  }
 },
 "nbformat": 4,
 "nbformat_minor": 5
}
